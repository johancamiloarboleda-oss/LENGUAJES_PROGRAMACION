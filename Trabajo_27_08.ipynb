{
  "nbformat": 4,
  "nbformat_minor": 0,
  "metadata": {
    "colab": {
      "provenance": []
    },
    "kernelspec": {
      "name": "python3",
      "display_name": "Python 3"
    },
    "language_info": {
      "name": "python"
    }
  },
  "cells": [
    {
      "cell_type": "markdown",
      "source": [
        "El VPN es una medida financiera que permite evaluar la viabilidad de un proyecto, calculando la diferencia entre el valor presente de los flujos de caja futuros y la inversión inicial. Si el VPN es positivo, el proyecto es rentable; si es negativo, no lo es."
      ],
      "metadata": {
        "id": "2t7g7M7UlnTD"
      }
    },
    {
      "cell_type": "markdown",
      "metadata": {
        "id": "68255e99"
      },
      "source": [
        "La fórmula para calcular el Valor Presente Neto (VPN) es:\n",
        "\n",
        "$$VPN = \\sum_{t=1}^{n} \\frac{Flujo\\:de\\:Caja_t}{(1 + Tasa\\:de\\:Descuento)^t} - Inversión\\:Inicial$$\n",
        "\n",
        "Donde:\n",
        "- $Flujo\\:de\\:Caja_t$  es el flujo de caja en el año $t$.\n",
        "- $Tasa\\:de\\:Descuento$ es la tasa de descuento.\n",
        "- $n$ es el número total de años.\n",
        "- $Inversión\\:Inicial$ es la inversión inicial del proyecto."
      ]
    },
    {
      "cell_type": "markdown",
      "source": [
        "$Caso:$ La Empresa está considerando un proyecto con una inversión inicial de $10,000 y espera recibir flujos de caja de 3,000 en cada uno de los próximos tres año. La tasa de descuento es del 5%."
      ],
      "metadata": {
        "id": "00fatyDTiQZx"
      }
    },
    {
      "cell_type": "markdown",
      "source": [
        "$Primero$ :\n",
        "Se definen las variables de la inversión inicial, la tasa de descuento y los flujos que se esperan recibir en los 3 años.\n"
      ],
      "metadata": {
        "id": "sMxRyhEEm409"
      }
    },
    {
      "cell_type": "code",
      "source": [
        "inversion_inicial = 10000\n",
        "flujo_ano_1 = 3000\n",
        "flujo_ano_2 = 3000\n",
        "flujo_ano_3 = 3000\n",
        "tasa_descuento = 0.05"
      ],
      "metadata": {
        "id": "XpIn7zEwcnXD"
      },
      "execution_count": null,
      "outputs": []
    },
    {
      "cell_type": "markdown",
      "source": [
        "$Segundo$: Para calcular las valor presente neto se utiliza la siguiente fórmula."
      ],
      "metadata": {
        "id": "iqCuPzDfmsYY"
      }
    },
    {
      "cell_type": "code",
      "source": [
        "vpn =(flujo_ano_1 / (1 + tasa_descuento)**1) + \\\n",
        "    (flujo_ano_2 / (1 + tasa_descuento)**2) + \\\n",
        "    (flujo_ano_3 / (1 + tasa_descuento)**3) - inversion_inicial\n",
        "print(\"El valor Presente Neto (VPN) es:\" , round (vpn, 2))\n"
      ],
      "metadata": {
        "colab": {
          "base_uri": "https://localhost:8080/"
        },
        "id": "LTCzmRK5dAVK",
        "outputId": "ce664083-76d8-4e45-f7c3-4c6961c0ec4a"
      },
      "execution_count": null,
      "outputs": [
        {
          "output_type": "stream",
          "name": "stdout",
          "text": [
            "El valor Presente Neto (VPN) es: -1830.26\n"
          ]
        }
      ]
    },
    {
      "cell_type": "markdown",
      "source": [
        "$Tercero$: Una vez ya obtenido los datos necesarios se puede interpretar si es viable para la empresa el invertir o no."
      ],
      "metadata": {
        "id": "Cj-Ld4wMqmlz"
      }
    },
    {
      "cell_type": "code",
      "source": [
        "if vpn > 0:\n",
        "  print(\"El proyecto es viable, ya que el VPN es positivo.\")\n",
        "elif vpn < 0:\n",
        "  print(\"El proyecto no es viable, ya que el VPN es negativo.\")\n",
        "else :\n",
        "  print(\"El proyecto es indiferente, ya que el VPN es igual a 0.\")"
      ],
      "metadata": {
        "colab": {
          "base_uri": "https://localhost:8080/"
        },
        "id": "U5EClrVPeZh3",
        "outputId": "6842b037-0a80-4b16-b7c4-a8ecea4a0442"
      },
      "execution_count": null,
      "outputs": [
        {
          "output_type": "stream",
          "name": "stdout",
          "text": [
            "El proyecto no es viable, ya que el VPN es negativo.\n"
          ]
        }
      ]
    },
    {
      "cell_type": "markdown",
      "source": [
        "$Referencias$\n",
        "Taller práctico de uso de Mardown: https://colab.research.google.com/drive/1pdIdNrcPBBi1M-WhRVC_qavD1bHFWbGk?usp=sharing\n",
        "Documento de apoyo: Introducción a Jupyter: https://colab.research.google.com/drive/1uQstO4-9hDrLJT_rE0RLYOvnwhi4SOUS?usp=sharing"
      ],
      "metadata": {
        "id": "A6fIOFG2nIo9"
      }
    }
  ]
}